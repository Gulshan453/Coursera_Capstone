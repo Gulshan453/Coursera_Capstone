{
    "cells": [
        {
            "cell_type": "markdown",
            "metadata": {
                "collapsed": true
            },
            "source": " <font size = \"6\"> <b> Coursera Capstone - The battle of neighborhoods - Finding better neighborhoods </b> </font> "
        },
        {
            "cell_type": "markdown",
            "metadata": {},
            "source": "<font size = \"5\"> <b> 1.Introduction </b> </font> "
        },
        {
            "cell_type": "markdown",
            "metadata": {},
            "source": "The purpose of this Project is to help people in exploring better facilities around their neighborhood in Scarborough, Toranto. It will help people making smart and efficient decision on selecting great neighborhood out of numbers of other neighborhoods .\n\nPeople are migrating to various states of Canada and needed lots of research for good housing prices and reputated schools for their children. This project is for those people who are looking for better neighborhoods. For ease of accessing to Cafe, School, Super market, medical shops, grocery shops, mall, theatre, hospital, like minded people, etc.\n\nThis Project aim to create an analysis of features for a people migrating to Scarborough to search a best neighborhood as a comparative analysis between neighborhoods. The features include median housing price and better school according to ratings, crime rates of that particular area, road connectivity, weather conditions, good management for emergency, water resources both freash and waste water and excrement conveyed in sewers and recreational facilities.\n\nIt will help people to get awareness of the area and neighborhood before moving to a new city, state, country or place for their work or to start a new fresh life."
        },
        {
            "cell_type": "markdown",
            "metadata": {},
            "source": " <font size = \"5\"> <b> Problems which tried to solve  </b> </font>"
        },
        {
            "cell_type": "markdown",
            "metadata": {},
            "source": "The major purpose of this project, is to suggest a better neighborhood in a new city for the person who are shiffting there. Social presence in society in terms of like minded people. Connectivity to the airport, bus stand, city center, markets and other daily needs things nearby.\n\n1.Sorted list of house in terms of housing prices in a ascending or descending order   \n2.Sorted list of schools in terms of location, fees, rating and reviews\n"
        },
        {
            "cell_type": "markdown",
            "metadata": {},
            "source": " <font size = \"5\"> <b> Location </b> </font> "
        },
        {
            "cell_type": "markdown",
            "metadata": {},
            "source": "Scarborough in Toranto is the area we tried to find a better neighborhood"
        },
        {
            "cell_type": "markdown",
            "metadata": {},
            "source": "<b> <font size = \"5\"> <b> 2.Data description </b> </font> "
        },
        {
            "cell_type": "markdown",
            "metadata": {},
            "source": "Data Link: https://en.wikipedia.org/wiki/List_of_postal_codes_of_Canada:_M\n\nWill use Scarborough dataset which we scrapped from wikipedia on Week 3. Dataset consisting of latitude and longitude, zip codes."
        },
        {
            "cell_type": "markdown",
            "metadata": {},
            "source": "Example of data set and its nearest neigborhood\n\ngithub link : https://github.com/Gulshan453/Coursera_Capstone/blob/master/neighborhood_data_example.PNG"
        },
        {
            "cell_type": "markdown",
            "metadata": {},
            "source": " <font size = \"5\"> <b> Foursquare API </b> </font> "
        },
        {
            "cell_type": "markdown",
            "metadata": {},
            "source": "We will need data about different venues in different neighborhoods of that specific borough. In order to gain that information we will use \"Foursquare\" locational information. Foursquare is a location data provider with information about all manner of venues and events within an area of interest. Such information includes venue names, locations, menus and even photos. As such, the foursquare location platform will be used as the sole data source since all the stated required information can be obtained through the API.\n\nAfter finding the list of neighborhoods, we then connect to the Foursquare API to gather information about venues inside each and every neighborhood. For each neighborhood, we have chosen the radius to be 100 meter.\n\nThe data retrieved from Foursquare contained information of venues within a specified distance of the longitude and latitude of the postcodes. The information obtained per venue as follows:\n\n1. Neighborhood\n2. Neighborhood Latitude\n3. Neighborhood Longitude\n4. Venue\n5. Name of the venue e.g. the name of a store or restaurant\n6. Venue Latitude\n7. Venue Longitude\n8. Venue Category"
        },
        {
            "cell_type": "markdown",
            "metadata": {},
            "source": "<b> <font size = \"5\"> <b> Clustering approach </b> </font> "
        },
        {
            "cell_type": "markdown",
            "metadata": {},
            "source": "To compare the similarities of two cities, we decided to explore neighborhoods, segment them, and group them into clusters to find similar neighborhoods in a big city like New York and Toronto.  \nTo be able to do that, we need to cluster data which is a form of unsupervised machine learning: k-means clustering algorithm"
        }
    ],
    "metadata": {
        "kernelspec": {
            "display_name": "Python 3.6",
            "language": "python",
            "name": "python3"
        },
        "language_info": {
            "codemirror_mode": {
                "name": "ipython",
                "version": 3
            },
            "file_extension": ".py",
            "mimetype": "text/x-python",
            "name": "python",
            "nbconvert_exporter": "python",
            "pygments_lexer": "ipython3",
            "version": "3.6.9"
        }
    },
    "nbformat": 4,
    "nbformat_minor": 1
}